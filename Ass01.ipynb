{
  "nbformat": 4,
  "nbformat_minor": 0,
  "metadata": {
    "colab": {
      "provenance": [],
      "authorship_tag": "ABX9TyOO/OYYttoej4FO+yyC3w4I",
      "include_colab_link": true
    },
    "kernelspec": {
      "name": "python3",
      "display_name": "Python 3"
    },
    "language_info": {
      "name": "python"
    }
  },
  "cells": [
    {
      "cell_type": "markdown",
      "metadata": {
        "id": "view-in-github",
        "colab_type": "text"
      },
      "source": [
        "<a href=\"https://colab.research.google.com/github/enanin001/AlgorithmDiagram/blob/master/Ass01.ipynb\" target=\"_parent\"><img src=\"https://colab.research.google.com/assets/colab-badge.svg\" alt=\"Open In Colab\"/></a>"
      ]
    },
    {
      "cell_type": "code",
      "source": [
        "pip install pydataset"
      ],
      "metadata": {
        "colab": {
          "base_uri": "https://localhost:8080/"
        },
        "id": "l3scwXhaaDq0",
        "outputId": "0de4dd1e-7f7b-4520-ddac-ad3dd72be216"
      },
      "execution_count": 1,
      "outputs": [
        {
          "output_type": "stream",
          "name": "stdout",
          "text": [
            "Collecting pydataset\n",
            "  Downloading pydataset-0.2.0.tar.gz (15.9 MB)\n",
            "\u001b[2K     \u001b[90m━━━━━━━━━━━━━━━━━━━━━━━━━━━━━━━━━━━━━━━━\u001b[0m \u001b[32m15.9/15.9 MB\u001b[0m \u001b[31m59.7 MB/s\u001b[0m eta \u001b[36m0:00:00\u001b[0m\n",
            "\u001b[?25h  Preparing metadata (setup.py) ... \u001b[?25l\u001b[?25hdone\n",
            "Requirement already satisfied: pandas in /usr/local/lib/python3.10/dist-packages (from pydataset) (1.5.3)\n",
            "Requirement already satisfied: python-dateutil>=2.8.1 in /usr/local/lib/python3.10/dist-packages (from pandas->pydataset) (2.8.2)\n",
            "Requirement already satisfied: pytz>=2020.1 in /usr/local/lib/python3.10/dist-packages (from pandas->pydataset) (2023.4)\n",
            "Requirement already satisfied: numpy>=1.21.0 in /usr/local/lib/python3.10/dist-packages (from pandas->pydataset) (1.25.2)\n",
            "Requirement already satisfied: six>=1.5 in /usr/local/lib/python3.10/dist-packages (from python-dateutil>=2.8.1->pandas->pydataset) (1.16.0)\n",
            "Building wheels for collected packages: pydataset\n",
            "  Building wheel for pydataset (setup.py) ... \u001b[?25l\u001b[?25hdone\n",
            "  Created wheel for pydataset: filename=pydataset-0.2.0-py3-none-any.whl size=15939416 sha256=fefb48261129da1c74b0b08aa35ced374318451791f2f011d32e56c6165fe7bc\n",
            "  Stored in directory: /root/.cache/pip/wheels/2b/83/5c/073c3755e8b7704e4677557b2055e61026c1a2342149214c13\n",
            "Successfully built pydataset\n",
            "Installing collected packages: pydataset\n",
            "Successfully installed pydataset-0.2.0\n"
          ]
        }
      ]
    },
    {
      "cell_type": "code",
      "execution_count": 2,
      "metadata": {
        "colab": {
          "base_uri": "https://localhost:8080/",
          "height": 483
        },
        "id": "mrd8XLUfY4Hy",
        "outputId": "85c7ae06-52ab-451a-cad0-750558f88e64"
      },
      "outputs": [
        {
          "output_type": "stream",
          "name": "stdout",
          "text": [
            "initiated datasets repo at: /root/.pydataset/\n"
          ]
        },
        {
          "output_type": "execute_result",
          "data": {
            "text/plain": [
              "<Axes: xlabel='time', ylabel='LakeHuron'>"
            ]
          },
          "metadata": {},
          "execution_count": 2
        },
        {
          "output_type": "display_data",
          "data": {
            "text/plain": [
              "<Figure size 640x480 with 1 Axes>"
            ],
            "image/png": "[encoded data removed]"
          },
          "metadata": {}
        }
      ],
      "source": [
        "from pydataset import data\n",
        "import numpy as np\n",
        "df = data(\"LakeHuron\")\n",
        "df.plot(kind = \"scatter\", x= \"time\", y= \"LakeHuron\")"
      ]
    },
    {
      "cell_type": "code",
      "source": [
        "a_time = df[(df[\"time\"])>= 1880 & (df[\"time\"] <= 1910)]\n",
        "b_time = df[(df[\"time\"])>= 1940 & (df[\"time\"] <= 1970)]"
      ],
      "metadata": {
        "id": "kArUVhltnSR2"
      },
      "execution_count": 3,
      "outputs": []
    },
    {
      "cell_type": "markdown",
      "source": [
        "# Calculate mean and standard errors"
      ],
      "metadata": {
        "id": "-0mX6b_Vo5Mf"
      }
    },
    {
      "cell_type": "code",
      "source": [
        "mean_a = np.mean (a_time[\"LakeHuron\"]) #579.0040816326531\n",
        "mean_b = np.mean (b_time[\"LakeHuron\"]) #579.0040816326531"
      ],
      "metadata": {
        "id": "wYNnqs2ToVzg"
      },
      "execution_count": 4,
      "outputs": []
    },
    {
      "cell_type": "markdown",
      "source": [],
      "metadata": {
        "id": "w9gt-2oKByOD"
      }
    },
    {
      "cell_type": "code",
      "source": [
        "num_a = len(a_time) #98\n",
        "num_b = len(b_time) #98\n",
        "mean_diff = mean_a - mean_b #0.0\n",
        "se_diff = np.sqrt(np.var(a_time['LakeHuron'], ddof=1) / num_a +\n",
        "                  np.var(b_time['LakeHuron'], ddof=1) / num_b)  #0.18832836085296611\n"
      ],
      "metadata": {
        "id": "3E4qChZa8j3X"
      },
      "execution_count": 6,
      "outputs": []
    },
    {
      "cell_type": "markdown",
      "source": [
        "#Calculated confidence interval"
      ],
      "metadata": {
        "id": "lfZT98chBBFw"
      }
    },
    {
      "cell_type": "code",
      "source": [
        "ci_95_diff = (mean_diff - 1.96 * se_diff, mean_diff + 1.96 * se_diff) #(-0.3691235872718136, 0.3691235872718136)"
      ],
      "metadata": {
        "id": "yno9VMrY9mu7"
      },
      "execution_count": 12,
      "outputs": []
    },
    {
      "cell_type": "code",
      "source": [
        "if ci_95_diff[0] > 0:\n",
        "  print('The water level between 1940 and 1970 was higher than that between 1880 and 1910.')\n",
        "if ci_95_diff[1] < 0:\n",
        "  print('The water level between 1940 and 1970 was lower than that between 1880 and 1910.')\n",
        "else:\n",
        "  print('There was no difference in water levels between 1940-1970 and 1880-1910.')"
      ],
      "metadata": {
        "colab": {
          "base_uri": "https://localhost:8080/"
        },
        "id": "FDCazr4d94rC",
        "outputId": "8ef793c8-1735-40b0-ed64-cf70908e80ba"
      },
      "execution_count": 14,
      "outputs": [
        {
          "output_type": "stream",
          "name": "stdout",
          "text": [
            "There was no difference in water levels between 1940-1970 and 1880-1910.\n"
          ]
        }
      ]
    },
    {
      "cell_type": "code",
      "source": [
        "#se_a = std_a / np.sqrt(num_a)\n",
        "#se_b = std_b / np.sqrt(num_b)"
      ],
      "metadata": {
        "id": "7aj6Lk35rs3W"
      },
      "execution_count": 7,
      "outputs": []
    },
    {
      "cell_type": "code",
      "source": [
        "#ci_95_a = (mean_a - 1.96 * se_a, mean_a + 1.96 * se_a) #(578.744406938201, 579.2637563271052)\n",
        "#ci_95_b = (mean_b - 1.96 * se_b, mean_b + 1.96 * se_b) #(578.744406938201, 579.2637563271052)"
      ],
      "metadata": {
        "id": "VG44QUTlrScu"
      },
      "execution_count": 8,
      "outputs": []
    },
    {
      "cell_type": "code",
      "source": [
        "#if ci_95_a[1] < ci_95_b[0] or ci_95_a[1] < ci_95_b[0]:\n",
        "#  print (\"Yes\")\n",
        "#else:\n",
        "#  print(\"No\")"
      ],
      "metadata": {
        "id": "kv8b_gussJ1-"
      },
      "execution_count": 9,
      "outputs": []
    },
    {
      "cell_type": "code",
      "source": [
        "print(ci_95_diff)"
      ],
      "metadata": {
        "colab": {
          "base_uri": "https://localhost:8080/"
        },
        "id": "yPiVzQVsoNBL",
        "outputId": "a2189a25-1bdf-43c8-ae66-d0e34fd1af9e"
      },
      "execution_count": 13,
      "outputs": [
        {
          "output_type": "stream",
          "name": "stdout",
          "text": [
            "(-0.3691235872718136, 0.3691235872718136)\n"
          ]
        }
      ]
    }
  ]
}